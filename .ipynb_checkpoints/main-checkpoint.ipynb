{
 "cells": [
  {
   "metadata": {},
   "cell_type": "markdown",
   "source": "# Quantum Wave Visualizer",
   "id": "66b5b8a0eb2cdb53"
  },
  {
   "metadata": {
    "ExecuteTime": {
     "end_time": "2025-04-20T09:12:03.510372Z",
     "start_time": "2025-04-20T09:12:03.503951Z"
    }
   },
   "cell_type": "code",
   "source": [
    "import numpy as np\n",
    "import matplotlib.pyplot as plt\n",
    "from scipy.sparse import diags\n",
    "from scipy.linalg import eigh"
   ],
   "id": "4ca3cc8c7018a615",
   "outputs": [],
   "execution_count": 24
  },
  {
   "metadata": {
    "ExecuteTime": {
     "end_time": "2025-04-20T09:12:03.518250Z",
     "start_time": "2025-04-20T09:12:03.516603Z"
    }
   },
   "cell_type": "code",
   "source": [
    "# Constants\n",
    "hbar = 1.0  # Reduced Planck's constant\n",
    "m = 1.0  # Mass of the particle"
   ],
   "id": "38f6952009e46ffe",
   "outputs": [],
   "execution_count": 25
  },
  {
   "metadata": {
    "ExecuteTime": {
     "end_time": "2025-04-20T09:12:03.525442Z",
     "start_time": "2025-04-20T09:12:03.523331Z"
    }
   },
   "cell_type": "code",
   "source": [
    "def define_grid(grid_size, x_min, x_max):\n",
    "\t\"\"\"\n",
    "    Define the spatial grid and return the grid points and step size.\n",
    "    \"\"\"\n",
    "\tx = np.linspace(x_min, x_max, grid_size)\n",
    "\tdx = x[1] - x[0]\n",
    "\treturn x, dx"
   ],
   "id": "ad732ca419a2a226",
   "outputs": [],
   "execution_count": 26
  },
  {
   "metadata": {
    "ExecuteTime": {
     "end_time": "2025-04-20T09:12:03.532946Z",
     "start_time": "2025-04-20T09:12:03.530713Z"
    }
   },
   "cell_type": "code",
   "source": [
    "# Potentials\n",
    "def potential_square_well(x, well_width, well_depth):\n",
    "\t\"\"\"\n",
    "    Define a square well potential centered at x=0.\n",
    "    \"\"\"\n",
    "\tV = np.zeros_like(x)\n",
    "\tV[np.abs(x) > well_width / 2] = well_depth\n",
    "\treturn V"
   ],
   "id": "6163344c4de800b2",
   "outputs": [],
   "execution_count": 27
  },
  {
   "metadata": {
    "ExecuteTime": {
     "end_time": "2025-04-20T09:12:03.538408Z",
     "start_time": "2025-04-20T09:12:03.536503Z"
    }
   },
   "cell_type": "code",
   "source": [
    "def construct_hamiltonian(x, dx, V):\n",
    "\t\"\"\"\n",
    "    Construct the Hamiltonian operator as a matrix (finite differences).\n",
    "    \"\"\"\n",
    "\tdiagonal = hbar ** 2 / (m * dx ** 2)\n",
    "\tkinetic = -diagonal * np.array([-2] * len(x))\n",
    "\toff_diag = np.array([1] * (len(x) - 1))\n",
    "\n",
    "\t# Sparse representation of the Hamiltonian\n",
    "\tH = diags([kinetic, off_diag, off_diag], [0, -1, 1]).toarray()\n",
    "\tH += np.diag(V)  # Add potential energy term\n",
    "\treturn H"
   ],
   "id": "43a68a38d84ffa98",
   "outputs": [],
   "execution_count": 28
  },
  {
   "metadata": {
    "ExecuteTime": {
     "end_time": "2025-04-20T09:12:03.543135Z",
     "start_time": "2025-04-20T09:12:03.541768Z"
    }
   },
   "cell_type": "code",
   "source": [
    "def solve_schrodinger(H):\n",
    "\t\"\"\"\n",
    "    Solve the time-independent Schrödinger equation for eigenvalues/eigenvectors.\n",
    "    \"\"\"\n",
    "\treturn eigh(H)\n"
   ],
   "id": "7c66231a1e128a2",
   "outputs": [],
   "execution_count": 29
  },
  {
   "metadata": {
    "ExecuteTime": {
     "end_time": "2025-04-20T09:12:03.548573Z",
     "start_time": "2025-04-20T09:12:03.546364Z"
    }
   },
   "cell_type": "code",
   "source": [
    "def wavefunction_evolution(eigenvectors, eigenvalues, x, t, c_n=None):\n",
    "\t\"\"\"\n",
    "    Compute the time-evolved wavefunction psi(x, t).\n",
    "    \"\"\"\n",
    "\tif c_n is None:  # Default to the first eigenstate\n",
    "\t\tc_n = np.zeros_like(eigenvalues)\n",
    "\t\tc_n[0] = 1.0  # Use only the ground state\n",
    "\n",
    "\tpsi_t = np.zeros_like(x, dtype=complex)\n",
    "\tfor n, (psi_n, E_n) in enumerate(zip(eigenvectors.T, eigenvalues)):\n",
    "\t\tpsi_t += c_n[n] * psi_n * np.exp(-1j * E_n * t / hbar)\n",
    "\treturn np.abs(psi_t) ** 2\n"
   ],
   "id": "11994810e977c9ec",
   "outputs": [],
   "execution_count": 30
  },
  {
   "metadata": {
    "ExecuteTime": {
     "end_time": "2025-04-20T09:12:03.560444Z",
     "start_time": "2025-04-20T09:12:03.558384Z"
    }
   },
   "cell_type": "code",
   "source": [
    "def plot_wavefunction(x, psi, title=\"Wavefunction\", filename=\"animation\"):\n",
    "\t\"\"\"\n",
    "    Plot the wavefunction probability density.\n",
    "    \"\"\"\n",
    "\tplt.figure(figsize=(8, 5))\n",
    "\tplt.plot(x, psi, label=r\"$|\\psi(x, t)|^2$\", color='blue')\n",
    "\tplt.title(title)\n",
    "\tplt.xlabel(\"$x$\")\n",
    "\tplt.ylabel(\"Probability Density\")\n",
    "\tplt.legend()\n",
    "\tplt.grid(True)\n",
    "\tif filename:\n",
    "\t\tplt.savefig(filename)\n",
    "\tplt.show()\n"
   ],
   "id": "38df96ecbc230dfc",
   "outputs": [],
   "execution_count": 31
  },
  {
   "metadata": {
    "ExecuteTime": {
     "end_time": "2025-04-20T09:12:13.501120Z",
     "start_time": "2025-04-20T09:12:13.498878Z"
    }
   },
   "cell_type": "code",
   "source": [
    "def main():\n",
    "\t# Grid and potential\n",
    "\tx, dx = define_grid(grid_size=500, x_min=-10, x_max=10)\n",
    "\tV = potential_square_well(x, well_width=4.0, well_depth=-50.0)\n",
    "\n",
    "\t# Hamiltonian and solutions\n",
    "\tH = construct_hamiltonian(x, dx, V)\n",
    "\teigenvalues, eigenvectors = solve_schrodinger(H)\n",
    "\n",
    "\t# Display the first few energy eigenvalues\n",
    "\tprint(\"First 5 energy levels (E_n):\", eigenvalues[:5])\n",
    "\n",
    "\t# Time evolution\n",
    "\tt = 0.0  # Initial time\n",
    "\tpsi_t = wavefunction_evolution(eigenvectors, eigenvalues, x, t)\n",
    "\n",
    "\t# Plot\n",
    "\tplot_wavefunction(x, psi_t, title=f\"Wavefunction at t={t:.2f}\")\n"
   ],
   "id": "c55ab33ba0a5d5",
   "outputs": [],
   "execution_count": 33
  }
 ],
 "metadata": {
  "kernelspec": {
   "display_name": "Python 3",
   "language": "python",
   "name": "python3"
  },
  "language_info": {
   "codemirror_mode": {
    "name": "ipython",
    "version": 2
   },
   "file_extension": ".py",
   "mimetype": "text/x-python",
   "name": "python",
   "nbconvert_exporter": "python",
   "pygments_lexer": "ipython2",
   "version": "2.7.6"
  }
 },
 "nbformat": 4,
 "nbformat_minor": 5
}
