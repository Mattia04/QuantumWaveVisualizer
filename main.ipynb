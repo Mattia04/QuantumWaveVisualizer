{
 "cells": [
  {
   "cell_type": "markdown",
   "id": "66b5b8a0eb2cdb53",
   "metadata": {},
   "source": [
    "# Quantum Wave Visualizer"
   ]
  },
  {
   "cell_type": "code",
   "id": "4ca3cc8c7018a615",
   "metadata": {
    "ExecuteTime": {
     "end_time": "2025-04-21T19:49:14.890424Z",
     "start_time": "2025-04-21T19:49:14.876544Z"
    }
   },
   "source": [
    "import numpy as np\n",
    "import matplotlib.pyplot as plt\n",
    "import seaborn as sns\n",
    "from matplotlib.animation import FuncAnimation\n",
    "from scipy.linalg import eigh\n",
    "from IPython.display import HTML\n",
    "\n",
    "sns.set_theme()"
   ],
   "outputs": [],
   "execution_count": 101
  },
  {
   "cell_type": "code",
   "id": "38f6952009e46ffe",
   "metadata": {
    "ExecuteTime": {
     "end_time": "2025-04-21T19:49:14.905414Z",
     "start_time": "2025-04-21T19:49:14.903539Z"
    }
   },
   "source": [
    "# Constants\n",
    "hbar = 1.0  # Reduced Planck's constant\n",
    "m = 1.0  # Mass of the particle"
   ],
   "outputs": [],
   "execution_count": 102
  },
  {
   "cell_type": "code",
   "id": "ad732ca419a2a226",
   "metadata": {
    "ExecuteTime": {
     "end_time": "2025-04-21T19:49:14.915587Z",
     "start_time": "2025-04-21T19:49:14.911867Z"
    }
   },
   "source": [
    "def define_grid(grid_size, x_min, x_max):\n",
    "\t\"\"\"\n",
    "    Define the spatial grid and return the grid points and step size.\n",
    "    \"\"\"\n",
    "\tx = np.linspace(x_min, x_max, grid_size +1)\n",
    "\tdx = (x_max - x_min) / grid_size\n",
    "\treturn x, dx"
   ],
   "outputs": [],
   "execution_count": 103
  },
  {
   "cell_type": "code",
   "id": "6163344c4de800b2",
   "metadata": {
    "ExecuteTime": {
     "end_time": "2025-04-21T19:49:14.924505Z",
     "start_time": "2025-04-21T19:49:14.922426Z"
    }
   },
   "source": [
    "# Potentials\n",
    "def potential_square_well(x, well_width, well_depth):\n",
    "\t\"\"\"\n",
    "    Define a square well potential centered at x=0.\n",
    "    \"\"\"\n",
    "\tV = np.zeros_like(x)\n",
    "\tV[np.abs(x) <= well_width / 2] = -well_depth\n",
    "\treturn V\n",
    "\n",
    "def potential_harmonic_oscillator(x, k, x0=0):\n",
    "\t\"\"\"\n",
    "    Define a harmonic oscillator potential.\n",
    "    \"\"\"\n",
    "\treturn 0.5 * k * (x - x0) ** 2\n",
    "\n",
    "\n",
    "def potential_free_particle(x):\n",
    "\t\"\"\"\n",
    "    Define a free particle potential (V=0 everywhere).\n",
    "    \"\"\"\n",
    "\treturn np.zeros_like(x)\n",
    "\n",
    "\n",
    "def potential_custom(x, custom_func):\n",
    "\t\"\"\"\n",
    "    Define a customizable potential using a function.\n",
    "    \"\"\"\n",
    "\treturn custom_func(x)"
   ],
   "outputs": [],
   "execution_count": 104
  },
  {
   "cell_type": "code",
   "id": "43a68a38d84ffa98",
   "metadata": {
    "ExecuteTime": {
     "end_time": "2025-04-21T19:49:14.932455Z",
     "start_time": "2025-04-21T19:49:14.930444Z"
    }
   },
   "source": [
    "def construct_hamiltonian(x, dx, V):\n",
    "\t\"\"\"\n",
    "    Construct the Hamiltonian operator as a sparse matrix.\n",
    "    \"\"\"\n",
    "\tN = len(x)\n",
    "\tkinetic_coefficient = hbar ** 2 / (2 * m * dx ** 2)\n",
    "\tkinetic = kinetic_coefficient * (np.eye(N, k=1) + np.eye(N, k=-1) - 2 * np.eye(N))\n",
    "\n",
    "\tpotential = np.diag(V)\n",
    "\n",
    "\treturn kinetic + potential"
   ],
   "outputs": [],
   "execution_count": 105
  },
  {
   "cell_type": "code",
   "id": "7c66231a1e128a2",
   "metadata": {
    "ExecuteTime": {
     "end_time": "2025-04-21T19:49:14.942028Z",
     "start_time": "2025-04-21T19:49:14.939886Z"
    }
   },
   "source": [
    "def solve_schrodinger(H):\n",
    "\t\"\"\"\n",
    "    Solve the time-independent Schrödinger equation for eigenvalues/eigenvectors.\n",
    "    \"\"\"\n",
    "\treturn eigh(H)\n"
   ],
   "outputs": [],
   "execution_count": 106
  },
  {
   "cell_type": "code",
   "id": "11994810e977c9ec",
   "metadata": {
    "ExecuteTime": {
     "end_time": "2025-04-21T19:49:14.952117Z",
     "start_time": "2025-04-21T19:49:14.950002Z"
    }
   },
   "source": [
    "def wavefunction_evolution(eigenvectors, eigenvalues, x, t, c_n):\n",
    "\t\"\"\"\n",
    "    Compute the time-evolved wavefunction psi(x, t).\n",
    "    \"\"\"\n",
    "\n",
    "\t# Time-evolve the wavefunction\n",
    "\tpsi_t = np.zeros_like(x, dtype=complex)\n",
    "\tfor n, (psi_n, E_n) in enumerate(zip(eigenvectors.T, eigenvalues)):\n",
    "\t\tpsi_t += c_n[n] * psi_n * np.exp(-1j * E_n * t / hbar)\n",
    "\treturn np.abs(psi_t) ** 2\n"
   ],
   "outputs": [],
   "execution_count": 107
  },
  {
   "metadata": {
    "ExecuteTime": {
     "end_time": "2025-04-21T19:49:14.960049Z",
     "start_time": "2025-04-21T19:49:14.957870Z"
    }
   },
   "cell_type": "code",
   "source": [
    "def get_coefficients(x, eigenvectors, dx):\n",
    "\t\"\"\"\n",
    "    Compute the coefficients of a Gaussian initial wavefunction (phi) projected\n",
    "    onto the eigenfunctions of the Hamiltonian.\n",
    "    \n",
    "    Parameters:\n",
    "        x (numpy.ndarray): Spatial grid.\n",
    "        eigenvectors (numpy.ndarray): Eigenfunctions of the system.\n",
    "        dx (float): Grid spacing.\n",
    "    \n",
    "    Returns:\n",
    "        numpy.ndarray: Normalized coefficients for the initial wavefunction.\n",
    "    \"\"\"\n",
    "\t# Define the initial Gaussian wavefunction\n",
    "\tphi = np.exp(-(x*4) ** 2)  # Gaussian centered at x=0\n",
    "\tphi /= np.sqrt(np.sum(np.abs(phi) ** 2) * dx)  # Normalize\n",
    "\n",
    "\t# Compute projection coefficients\n",
    "\tc_n = np.array([\n",
    "\t\tnp.sum(phi * eigenvectors[:, i].conj()) * dx for i in range(len(x))\n",
    "\t\t])\n",
    "\n",
    "\t# Normalize coefficients\n",
    "\tc_n /= np.sqrt(np.sum(np.abs(c_n) ** 2))\n",
    "\treturn c_n"
   ],
   "id": "ced9ee9503822df1",
   "outputs": [],
   "execution_count": 108
  },
  {
   "cell_type": "code",
   "id": "5f87c04ea5d59af9",
   "metadata": {
    "ExecuteTime": {
     "end_time": "2025-04-21T19:49:14.971092Z",
     "start_time": "2025-04-21T19:49:14.967429Z"
    }
   },
   "source": [
    "def animate_wavefunction(x, dx, eigenvectors, eigenvalues, t_max, frames,\n",
    "                         filename=None):\n",
    "\t\"\"\"\n",
    "    Create an animation of the wavefunction's time evolution.\n",
    "\n",
    "    Parameters:\n",
    "        x (numpy.ndarray): Spatial grid\n",
    "        eigenvectors (numpy.ndarray): Eigenfunctions from the Hamiltonian\n",
    "        eigenvalues (numpy.ndarray): Eigenvalues from the Hamiltonian\n",
    "        t_max (float): Total time duration of the animation\n",
    "        frames (int): Number of frames for the animation\n",
    "        filename (str): Optional filename to save the animation\n",
    "    \"\"\"\n",
    "\ttime_points = np.linspace(0, t_max, frames)\n",
    "\tc_n = get_coefficients(x, eigenvectors, dx)\n",
    "\n",
    "\t# Set up the figure\n",
    "\tfig, ax = plt.subplots(figsize=(8, 6))\n",
    "\tax.set_xlim(x.min(), x.max())\n",
    "\tax.set_ylim(0, 1.2)\n",
    "\tax.set_title(\"Time Evolution of the Probability Density\")\n",
    "\tax.set_xlabel(\"x\")\n",
    "\tax.set_ylabel(r\"$|\\psi(x,t)|^2$\")\n",
    "\tline, = ax.plot([], [], label=fr'$|\\psi(x, t)|^2$')\n",
    "\tax.legend()\n",
    "\tax.grid()\n",
    "\n",
    "\tdef init():\n",
    "\t\t\"\"\"Initialize the plot.\"\"\"\n",
    "\t\tline.set_data([], [])\n",
    "\t\treturn line,\n",
    "\n",
    "\tdef update(frame):\n",
    "\t\t\"\"\"Update the wavefunction for the given frame.\"\"\"\n",
    "\t\tt = time_points[frame]\n",
    "\t\tpsi_t = wavefunction_evolution(eigenvectors, eigenvalues, x, t, c_n=c_n)\n",
    "\t\tline.set_data(x, psi_t)\n",
    "\t\treturn line,\n",
    "\n",
    "\t# Create animation\n",
    "\tanim = FuncAnimation(fig, update, frames=frames, init_func=init, blit=True,\n",
    "\t                     interval=6000*t_max/frames)\n",
    "\n",
    "\t# Display animation\n",
    "\tHTML(anim.to_jshtml())\n",
    "\n",
    "\t# Save animation if needed\n",
    "\tif filename:\n",
    "\t\tanim.save(filename, writer='ffmpeg', fps=30)"
   ],
   "outputs": [],
   "execution_count": 109
  },
  {
   "cell_type": "code",
   "id": "87dbe1c8155228d1",
   "metadata": {
    "ExecuteTime": {
     "end_time": "2025-04-21T19:49:14.978859Z",
     "start_time": "2025-04-21T19:49:14.976631Z"
    }
   },
   "source": [
    "def check_normalization(psi, dx):\n",
    "\tnorm = np.sum(psi * dx)\n",
    "\tprint(f\"Normalization: {norm}\")"
   ],
   "outputs": [],
   "execution_count": 110
  },
  {
   "cell_type": "code",
   "id": "c55ab33ba0a5d5",
   "metadata": {
    "ExecuteTime": {
     "end_time": "2025-04-21T19:49:55.809534Z",
     "start_time": "2025-04-21T19:49:14.986351Z"
    }
   },
   "source": [
    "def main():\n",
    "\t# Parameters\n",
    "\tgrid_size = 1000\n",
    "\tx_min, x_max = -50, 50\n",
    "\twell_width = 10.0\n",
    "\twell_depth = 100\n",
    "\tt_max = 10.0\n",
    "\tframes = 1000\n",
    "\n",
    "\t# Grid and potential\n",
    "\tx, dx = define_grid(grid_size, x_min, x_max)\n",
    "\tV = potential_square_well(x, well_width, well_depth)\n",
    "\n",
    "\t# show starting position\n",
    "\t# ! to be added\n",
    "\n",
    "\t# show potential\n",
    "\tfig, ax = plt.subplots(figsize=(8, 6))\n",
    "\tplt.plot(x, V)\n",
    "\tax.set(title=\"Potential\", xlabel=\"x\", ylabel=\"V(x)\")\n",
    "\tplt.show()\n",
    "\n",
    "\t# Hamiltonian and solutions\n",
    "\tH = construct_hamiltonian(x, dx, V)\n",
    "\teigenvalues, eigenvectors = solve_schrodinger(H)\n",
    "\n",
    "\t# normalize eigenfunctions\n",
    "\tfor i in range(eigenvectors.shape[1]):\n",
    "\t\teigenvectors[:, i] /= np.sqrt(np.sum(np.abs(eigenvectors[:, i]) ** 2) * dx)\n",
    "\n",
    "\t# Animate the wavefunction evolution\n",
    "\tanimate_wavefunction(x, dx, eigenvectors, eigenvalues, t_max,\n",
    "\t                     frames, filename=\"wavefunction.mp4\")\n",
    "\n",
    "if __name__ == \"__main__\":\n",
    "\tmain()"
   ],
   "outputs": [
    {
     "data": {
      "text/plain": [
       "<Figure size 800x600 with 1 Axes>"
      ],
      "image/png": "[encoded data removed]"
     },
     "metadata": {},
     "output_type": "display_data"
    },
    {
     "name": "stderr",
     "output_type": "stream",
     "text": [
      "Animation size has reached 20984740 bytes, exceeding the limit of 20971520.0. If you're sure you want a larger animation embedded, set the animation.embed_limit rc parameter to a larger value (in MB). This and further frames will be dropped.\n"
     ]
    },
    {
     "data": {
      "text/plain": [
       "<Figure size 800x600 with 1 Axes>"
      ],
      "image/png": "[encoded data removed]"
     },
     "metadata": {},
     "output_type": "display_data"
    }
   ],
   "execution_count": 111
  }
 ],
 "metadata": {
  "kernelspec": {
   "display_name": "Python 3 (ipykernel)",
   "language": "python",
   "name": "python3"
  },
  "language_info": {
   "codemirror_mode": {
    "name": "ipython",
    "version": 3
   },
   "file_extension": ".py",
   "mimetype": "text/x-python",
   "name": "python",
   "nbconvert_exporter": "python",
   "pygments_lexer": "ipython3",
   "version": "3.13.0"
  }
 },
 "nbformat": 4,
 "nbformat_minor": 5
}
